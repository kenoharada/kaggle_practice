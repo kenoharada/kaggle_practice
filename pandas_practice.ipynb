{
 "cells": [
  {
   "cell_type": "markdown",
   "metadata": {},
   "source": [
    "## 抽出\n",
    "- データ列を指定して抽出\n",
    "- 条件指定によるデータ行の抽出\n",
    "- データ値に基づかないサンプリング\n",
    "- 集約IDに基づくサンプリング"
   ]
  },
  {
   "cell_type": "markdown",
   "metadata": {},
   "source": [
    "### データ列指定によるサンプリング\n",
    "- 不要な列を削除し必要な列のみに絞り込むことによって1行あたりのデータサイズを減らし、後続のデータ分析をやりやすくすることがデータ列抽出の役割"
   ]
  },
  {
   "cell_type": "code",
   "execution_count": 2,
   "metadata": {
    "collapsed": true
   },
   "outputs": [],
   "source": [
    "import pandas as pd\n",
    "df = []\n",
    "# 指定した列名の列を抽出\n",
    "df[['column_name_A', 'column_name_B', 'column_name_C']]\n",
    "\n",
    "df.loc[:, ['column_name_A', 'column_name_B', 'column_name_C']]\n",
    "\n",
    "# drop関数によって不要な列を削除\n",
    "# axis=1にすることで列の削除を実施\n",
    "# inplace = Trueに指定することによってdfの書き換えを指定　処理が軽くなる\n",
    "df.drop(['drop_column_nameA', 'drop_column_nameB'], axis=1, inplace=True)"
   ]
  },
  {
   "cell_type": "markdown",
   "metadata": {},
   "source": [
    "### 条件指定によるデータ行の抽出"
   ]
  },
  {
   "cell_type": "code",
   "execution_count": null,
   "metadata": {
    "collapsed": true
   },
   "outputs": [],
   "source": [
    "df.query('\"2016-10-01\" <= date <= \"2017-10-01\"')\n",
    "# @var_nameのように@の後に参照したい変数名を書くことによってpythonのメモリ上の変数を利用できる\n",
    "# 条件をandでつなげる時は&、orでつなげる時は| を利用する"
   ]
  },
  {
   "cell_type": "markdown",
   "metadata": {},
   "source": [
    "### データ値に基づかないサンプリング\n",
    "- データ分析する際に、抽出したデータ数が多すぎて扱いに困る場合がある\n",
    "- サンプリングによってデータ数を減らすのが有効\n",
    "    - 恣意的なサンプリングとランダムサンプリング\n",
    "- 恣意的なサンプリング\n",
    "    - 自らサンプリングする条件を決める手法\n",
    "- ランダムサンプリング\n",
    "    - 乱数によって対象のデータを抽出する方法"
   ]
  },
  {
   "cell_type": "code",
   "execution_count": null,
   "metadata": {
    "collapsed": true
   },
   "outputs": [],
   "source": [
    "# df から50%サンプリング\n",
    "df.sample(frac=0.5)\n",
    "\n",
    "# 100件サンプリング\n",
    "df.sample(n=100)"
   ]
  },
  {
   "cell_type": "markdown",
   "metadata": {},
   "source": [
    "### 集約IDに基づくサンプリング\n",
    "- 公平なサンプリングのために、分析対象の単位とサンプリングする単位を揃えることは必要不可欠"
   ]
  },
  {
   "cell_type": "code",
   "execution_count": null,
   "metadata": {
    "collapsed": true
   },
   "outputs": [],
   "source": [
    "# df['column'].unique()は重複を排除したcolumnの値を返す\n",
    "# sample関数を利用するためにpandas.Series(pandasのリストオブジェクト)に変換\n",
    "# sample関数によってidをサンプリング\n",
    "target = pd.Series(df['id'].unique()).sample(frac=0.5)\n",
    "\n",
    "# isin関数によってidがサンプリングしたidのいずれかに一致した行を抽出\n",
    "df[df['id'].isin(target)]"
   ]
  }
 ],
 "metadata": {
  "kernelspec": {
   "display_name": "Python 3",
   "language": "python",
   "name": "python3"
  },
  "language_info": {
   "codemirror_mode": {
    "name": "ipython",
    "version": 3
   },
   "file_extension": ".py",
   "mimetype": "text/x-python",
   "name": "python",
   "nbconvert_exporter": "python",
   "pygments_lexer": "ipython3",
   "version": "3.6.3"
  }
 },
 "nbformat": 4,
 "nbformat_minor": 2
}
